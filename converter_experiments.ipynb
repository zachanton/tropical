{
 "cells": [
  {
   "cell_type": "code",
   "execution_count": 1,
   "metadata": {},
   "outputs": [],
   "source": [
    "import numpy as np\n",
    "import torch\n",
    "from torch import nn\n",
    "from tropical import Tropical, TropicalMonomial, TropicalPolynomial\n",
    "from tropical import to_tensor, Tropical, TropicalMonomial, TropicalPolynomial, PolyNet, DiffPolyNet, convert_net_to_tropical"
   ]
  },
  {
   "cell_type": "code",
   "execution_count": 2,
   "metadata": {},
   "outputs": [],
   "source": [
    "%load_ext autoreload\n",
    "%autoreload 2"
   ]
  },
  {
   "cell_type": "code",
   "execution_count": 3,
   "metadata": {},
   "outputs": [],
   "source": [
    "def to_tensor(x):\n",
    "    return torch.tensor(x).float()"
   ]
  },
  {
   "cell_type": "code",
   "execution_count": null,
   "metadata": {},
   "outputs": [],
   "source": []
  },
  {
   "cell_type": "markdown",
   "metadata": {},
   "source": [
    "Let's create polynomial with random coefficients"
   ]
  },
  {
   "cell_type": "code",
   "execution_count": 4,
   "metadata": {},
   "outputs": [],
   "source": [
    "dim = 2\n",
    "size = 4\n",
    "points = np.random.randint(-10,10,size=(size,dim+1)).tolist()\n",
    "a = TropicalPolynomial(points)\n",
    "b = a.minimize()"
   ]
  },
  {
   "cell_type": "code",
   "execution_count": 5,
   "metadata": {},
   "outputs": [
    {
     "data": {
      "text/plain": [
       "-10⨀a^-10⨀b^-3 ⨁ 6⨀a^-10⨀b^-5 ⨁ 3⨀a^-2⨀b^-5 ⨁ -8⨀a^-9⨀b^-9"
      ]
     },
     "execution_count": 5,
     "metadata": {},
     "output_type": "execute_result"
    }
   ],
   "source": [
    "a"
   ]
  },
  {
   "cell_type": "code",
   "execution_count": 6,
   "metadata": {},
   "outputs": [
    {
     "data": {
      "text/plain": [
       "-10⨀a^-10⨀b^-3 ⨁ 6⨀a^-10⨀b^-5 ⨁ 3⨀a^-2⨀b^-5 ⨁ -8⨀a^-9⨀b^-9"
      ]
     },
     "execution_count": 6,
     "metadata": {},
     "output_type": "execute_result"
    }
   ],
   "source": [
    "b"
   ]
  },
  {
   "cell_type": "code",
   "execution_count": 7,
   "metadata": {},
   "outputs": [],
   "source": [
    "b_net = PolyNet(b)"
   ]
  },
  {
   "cell_type": "code",
   "execution_count": 8,
   "metadata": {},
   "outputs": [
    {
     "data": {
      "text/plain": [
       "PolyNet(\n",
       "  (linears): ModuleList(\n",
       "    (0): Linear(in_features=2, out_features=6, bias=True)\n",
       "    (1): Linear(in_features=6, out_features=3, bias=True)\n",
       "    (2): Linear(in_features=3, out_features=1, bias=True)\n",
       "  )\n",
       ")"
      ]
     },
     "execution_count": 8,
     "metadata": {},
     "output_type": "execute_result"
    }
   ],
   "source": [
    "b_net"
   ]
  },
  {
   "cell_type": "code",
   "execution_count": null,
   "metadata": {},
   "outputs": [],
   "source": []
  },
  {
   "cell_type": "code",
   "execution_count": 9,
   "metadata": {
    "scrolled": true
   },
   "outputs": [],
   "source": [
    "h,g = convert_net_to_tropical(b_net)"
   ]
  },
  {
   "cell_type": "code",
   "execution_count": 10,
   "metadata": {},
   "outputs": [
    {
     "data": {
      "text/plain": [
       "19.0⨀a^41⨀b^20 ⨁ 22.0⨀a^33⨀b^20 ⨁ -18.0⨀a^18⨀b^20 ⨁ 13.0⨀a^45⨀b^30 ⨁ 16.0⨀a^37⨀b^30 ⨁ 22.0⨀a^51⨀b^40 ⨁ 25.0⨀a^43⨀b^40 ⨁ 16.0⨀a^55⨀b^50 ⨁ -26.0⨀a^9⨀b^11 ⨁ 5.0⨀a^36⨀b^21 ⨁ 8.0⨀a^28⨀b^21 ⨁ 14.0⨀a^42⨀b^31 ⨁ 17.0⨀a^34⨀b^31 ⨁ 8.0⨀a^46⨀b^41 ⨁ 17.0⨀a^52⨀b^51 ⨁ -3.0⨀a^27⨀b^12 ⨁ a^19⨀b^12 ⨁ 6.0⨀a^33⨀b^22 ⨁ 9.0⨀a^25⨀b^22 ⨁ a^37⨀b^32 ⨁ 9.0⨀a^43⨀b^42 ⨁ 40.0⨀a^70⨀b^52 ⨁ 43.0⨀a^62⨀b^52 ⨁ -2.0⨀a^24⨀b^13 ⨁ 1.0⨀a^16⨀b^13 ⨁ -8.0⨀a^28⨀b^23 ⨁ 1.0⨀a^34⨀b^33 ⨁ 32.0⨀a^61⨀b^43 ⨁ 35.0⨀a^53⨀b^43 ⨁ -16.0⨀a^19⨀b^14 ⨁ -7.0⨀a^25⨀b^24 ⨁ 24.0⨀a^52⨀b^34 ⨁ 27.0⨀a^44⨀b^34 ⨁ 36.0⨀a^50⨀b^44 ⨁ 18.0⨀a^56⨀b^44 ⨁ 33.0⨀a^58⨀b^44 ⨁ 27.0⨀a^62⨀b^54 ⨁ -15.0⨀a^16⨀b^15 ⨁ 16.0⨀a^43⨀b^25 ⨁ 19.0⨀a^35⨀b^25 ⨁ 28.0⨀a^41⨀b^35 ⨁ 10.0⨀a^47⨀b^35 ⨁ 25.0⨀a^49⨀b^35 ⨁ 19.0⨀a^53⨀b^45 ⨁ 22.0⨀a^45⨀b^45 ⨁ -24.0⨀a^10⨀b^5 ⨁ 8.0⨀a^34⨀b^16 ⨁ 11.0⨀a^26⨀b^16 ⨁ 17.0⨀a^40⨀b^26 ⨁ 20.0⨀a^32⨀b^26 ⨁ 2.0⨀a^38⨀b^26 ⨁ 11.0⨀a^44⨀b^36 ⨁ 14.0⨀a^36⨀b^36 ⨁ 20.0⨀a^50⨀b^46 ⨁ 9.0⨀a^31⨀b^17 ⨁ 12.0⨀a^23⨀b^17 ⨁ -6.0⨀a^29⨀b^17 ⨁ 3.0⨀a^35⨀b^27 ⨁ 6.0⨀a^27⨀b^27 ⨁ 12.0⨀a^41⨀b^37 ⨁ 46.0⨀a^60⨀b^47 ⨁ 6.0⨀a^45⨀b^47 ⨁ 43.0⨀a^68⨀b^47 ⨁ -5.0⨀a^26⨀b^18 ⨁ -2.0⨀a^18⨀b^18 ⨁ 4.0⨀a^32⨀b^28 ⨁ 38.0⨀a^51⨀b^38 ⨁ -2.0⨀a^36⨀b^38 ⨁ 35.0⨀a^59⨀b^38 ⨁ 29.0⨀a^63⨀b^48 ⨁ 32.0⨀a^55⨀b^48 ⨁ -14.0⨀a^20⨀b^8 ⨁ -4.0⨀a^23⨀b^19 ⨁ 27.0⨀a^50⨀b^29 ⨁ 30.0⨀a^42⨀b^29 ⨁ -10.0⨀a^27⨀b^29 ⨁ 21.0⨀a^54⨀b^39 ⨁ 24.0⨀a^46⨀b^39 ⨁ 30.0⨀a^60⨀b^49 ⨁ 33.0⨀a^52⨀b^49 ⨁ -13.0⨀a^17⨀b^9 ⨁ -10.0⨀a^9⨀b^9"
      ]
     },
     "execution_count": 10,
     "metadata": {},
     "output_type": "execute_result"
    }
   ],
   "source": [
    "h[0]"
   ]
  },
  {
   "cell_type": "code",
   "execution_count": 11,
   "metadata": {
    "scrolled": true
   },
   "outputs": [
    {
     "data": {
      "text/plain": [
       "19.0⨀a^41⨀b^20 ⨁ 22.0⨀a^33⨀b^20 ⨁ -26.0⨀a^9⨀b^11 ⨁ 17.0⨀a^52⨀b^51 ⨁ a^19⨀b^12 ⨁ 40.0⨀a^70⨀b^52 ⨁ 43.0⨀a^62⨀b^52 ⨁ 36.0⨀a^50⨀b^44 ⨁ 27.0⨀a^62⨀b^54 ⨁ 22.0⨀a^45⨀b^45 ⨁ -24.0⨀a^10⨀b^5 ⨁ 12.0⨀a^23⨀b^17 ⨁ 46.0⨀a^60⨀b^47 ⨁ 6.0⨀a^45⨀b^47 ⨁ 43.0⨀a^68⨀b^47 ⨁ -14.0⨀a^20⨀b^8 ⨁ 33.0⨀a^52⨀b^49 ⨁ -10.0⨀a^9⨀b^9"
      ]
     },
     "execution_count": 11,
     "metadata": {},
     "output_type": "execute_result"
    }
   ],
   "source": [
    "h[0].minimize()"
   ]
  },
  {
   "cell_type": "code",
   "execution_count": 12,
   "metadata": {},
   "outputs": [
    {
     "data": {
      "text/plain": [
       "16.0⨀a^55⨀b^50 ⨁ 6.0⨀a^33⨀b^22 ⨁ 40.0⨀a^70⨀b^52 ⨁ -16.0⨀a^19⨀b^14 ⨁ 27.0⨀a^62⨀b^54 ⨁ 16.0⨀a^43⨀b^25 ⨁ -6.0⨀a^29⨀b^17 ⨁ 37.0⨀a^72⨀b^57 ⨁ 30.0⨀a^60⨀b^49"
      ]
     },
     "execution_count": 12,
     "metadata": {},
     "output_type": "execute_result"
    }
   ],
   "source": [
    "g[0].minimize()"
   ]
  },
  {
   "cell_type": "code",
   "execution_count": 13,
   "metadata": {},
   "outputs": [
    {
     "data": {
      "image/png": "[encoded data removed]",
      "text/plain": [
       "<Figure size 432x288 with 1 Axes>"
      ]
     },
     "metadata": {
      "needs_background": "light"
     },
     "output_type": "display_data"
    }
   ],
   "source": [
    "h[0].plot_dual_sub(color='blue')\n",
    "g[0].minimize().plot_dual_sub(color='red')"
   ]
  },
  {
   "cell_type": "code",
   "execution_count": 14,
   "metadata": {},
   "outputs": [
    {
     "data": {
      "text/plain": [
       "True"
      ]
     },
     "execution_count": 14,
     "metadata": {},
     "output_type": "execute_result"
    }
   ],
   "source": [
    "(g[0].minimize()*b).minimize() == h[0].minimize()"
   ]
  },
  {
   "cell_type": "code",
   "execution_count": null,
   "metadata": {},
   "outputs": [],
   "source": []
  },
  {
   "cell_type": "code",
   "execution_count": null,
   "metadata": {},
   "outputs": [],
   "source": []
  },
  {
   "cell_type": "code",
   "execution_count": null,
   "metadata": {},
   "outputs": [],
   "source": []
  }
 ],
 "metadata": {
  "kernelspec": {
   "display_name": "Python 3",
   "language": "python",
   "name": "python3"
  },
  "language_info": {
   "codemirror_mode": {
    "name": "ipython",
    "version": 3
   },
   "file_extension": ".py",
   "mimetype": "text/x-python",
   "name": "python",
   "nbconvert_exporter": "python",
   "pygments_lexer": "ipython3",
   "version": "3.7.3"
  }
 },
 "nbformat": 4,
 "nbformat_minor": 2
}
