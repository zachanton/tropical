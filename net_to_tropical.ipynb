{
 "cells": [
  {
   "cell_type": "code",
   "execution_count": 18,
   "metadata": {},
   "outputs": [],
   "source": [
    "import numpy as np\n",
    "import torch\n",
    "from torch import nn\n",
    "from tropical import Tropical, TropicalMonomial, TropicalPolynomial, convert_net_to_tropical"
   ]
  },
  {
   "cell_type": "code",
   "execution_count": 3,
   "metadata": {},
   "outputs": [],
   "source": [
    "%load_ext autoreload\n",
    "%autoreload 2"
   ]
  },
  {
   "cell_type": "code",
   "execution_count": 4,
   "metadata": {},
   "outputs": [],
   "source": [
    "def to_tensor(x):\n",
    "    return torch.tensor(x).float()"
   ]
  },
  {
   "cell_type": "code",
   "execution_count": null,
   "metadata": {},
   "outputs": [],
   "source": []
  },
  {
   "cell_type": "markdown",
   "metadata": {},
   "source": [
    "Let's create simple network with random integer weights and real biases"
   ]
  },
  {
   "cell_type": "code",
   "execution_count": 29,
   "metadata": {},
   "outputs": [],
   "source": [
    "inp_size = [3,3]\n",
    "out_size = [3,2]\n",
    "\n",
    "t = Tropical(0)\n",
    "\n",
    "A = [np.random.randint(-10, 10, size=inp_size[i]*out_size[i]).reshape(out_size[i],inp_size[i]) for i in range(len(inp_size))]\n",
    "\n",
    "b = [np.random.randn(out_size[i]) for i in range(len(A))]"
   ]
  },
  {
   "cell_type": "code",
   "execution_count": 30,
   "metadata": {},
   "outputs": [],
   "source": [
    "class Net(torch.nn.Module):\n",
    "    def __init__(self, inp_size, out_size, bias=True):\n",
    "        super(Net, self).__init__()\n",
    "        \n",
    "        self.linears = nn.ModuleList([nn.Linear(inp_size[0], out_size[0], bias=bias)])\n",
    "        self.linears[0].weight.data.copy_(to_tensor(A[0]))\n",
    "        self.linears[0].bias.data.copy_(to_tensor(b[0]))\n",
    "        \n",
    "        for i in range(1, len(inp_size)):\n",
    "            self.linears.extend([nn.Linear(inp_size[i], out_size[i], bias=bias)])\n",
    "            self.linears[i].weight.data.copy_(to_tensor(A[i]))\n",
    "            self.linears[i].bias.data.copy_(to_tensor(b[i]))\n",
    "\n",
    "    def forward(self, output):\n",
    "        for i, l in enumerate(self.linears):\n",
    "            output = l.forward(output)\n",
    "            if i<len(self.linears)-1:\n",
    "                output = torch.relu(output)\n",
    "        return output"
   ]
  },
  {
   "cell_type": "code",
   "execution_count": 31,
   "metadata": {},
   "outputs": [],
   "source": [
    "model = Net(inp_size,out_size)"
   ]
  },
  {
   "cell_type": "code",
   "execution_count": 32,
   "metadata": {},
   "outputs": [
    {
     "data": {
      "text/plain": [
       "Net(\n",
       "  (linears): ModuleList(\n",
       "    (0): Linear(in_features=3, out_features=3, bias=True)\n",
       "    (1): Linear(in_features=3, out_features=2, bias=True)\n",
       "  )\n",
       ")"
      ]
     },
     "execution_count": 32,
     "metadata": {},
     "output_type": "execute_result"
    }
   ],
   "source": [
    "model"
   ]
  },
  {
   "cell_type": "code",
   "execution_count": 33,
   "metadata": {},
   "outputs": [
    {
     "name": "stdout",
     "output_type": "stream",
     "text": [
      "tensor([[-10.,  -3.,  -3.],\n",
      "        [  0.,   3.,   0.],\n",
      "        [ -3., -10.,   7.]])\n",
      "tensor([[  6.,   1., -10.],\n",
      "        [ -8.,   8.,   3.]])\n"
     ]
    }
   ],
   "source": [
    "for l in model.linears:\n",
    "    print(l.weight.data)"
   ]
  },
  {
   "cell_type": "code",
   "execution_count": null,
   "metadata": {},
   "outputs": [],
   "source": []
  },
  {
   "cell_type": "code",
   "execution_count": 34,
   "metadata": {},
   "outputs": [],
   "source": [
    "x = np.random.random(inp_size[0]).tolist()\n",
    "x_t = to_tensor(x)"
   ]
  },
  {
   "cell_type": "code",
   "execution_count": 35,
   "metadata": {
    "scrolled": true
   },
   "outputs": [],
   "source": [
    "out = model.forward(x_t)"
   ]
  },
  {
   "cell_type": "code",
   "execution_count": 36,
   "metadata": {
    "scrolled": true
   },
   "outputs": [
    {
     "data": {
      "text/plain": [
       "tensor([ 2.4397, 16.8617], grad_fn=<AddBackward0>)"
      ]
     },
     "execution_count": 36,
     "metadata": {},
     "output_type": "execute_result"
    }
   ],
   "source": [
    "out"
   ]
  },
  {
   "cell_type": "code",
   "execution_count": null,
   "metadata": {},
   "outputs": [],
   "source": []
  },
  {
   "cell_type": "markdown",
   "metadata": {},
   "source": [
    "Convert this network into difference of two polynomial maps"
   ]
  },
  {
   "cell_type": "code",
   "execution_count": 37,
   "metadata": {},
   "outputs": [],
   "source": [
    "h,g = convert_net_to_tropical(model)"
   ]
  },
  {
   "cell_type": "code",
   "execution_count": 38,
   "metadata": {},
   "outputs": [
    {
     "data": {
      "text/plain": [
       "[8.672683462500572⨀a^30⨀b^100 ⨁ 8.22757063806057⨀a^30⨀b^103 ⨁ -0.3366626650094986⨀a^90⨀b^121⨀c^18 ⨁ 0.10845015943050385⨀a^90⨀b^118⨀c^18,\n",
       " -1.7880237102508545⨀a^89⨀b^54⨀c^24 ⨁ -5.348926305770874⨀a^89⨀b^78⨀c^24 ⨁ -2.0436301603913307⨀a^80⨀b^24⨀c^45 ⨁ -5.60453275591135⨀a^80⨀b^48⨀c^45]"
      ]
     },
     "execution_count": 38,
     "metadata": {},
     "output_type": "execute_result"
    }
   ],
   "source": [
    "h"
   ]
  },
  {
   "cell_type": "code",
   "execution_count": 39,
   "metadata": {},
   "outputs": [
    {
     "data": {
      "text/plain": [
       "[a^90⨀b^118⨀c^18 ⨁ -0.8520215004682541⨀a^60⨀b^18⨀c^88,\n",
       " 11.418977737426758⨀a^9⨀b^30 ⨁ a^89⨀b^54⨀c^24]"
      ]
     },
     "execution_count": 39,
     "metadata": {},
     "output_type": "execute_result"
    }
   ],
   "source": [
    "g"
   ]
  },
  {
   "cell_type": "code",
   "execution_count": null,
   "metadata": {},
   "outputs": [],
   "source": []
  },
  {
   "cell_type": "code",
   "execution_count": 40,
   "metadata": {},
   "outputs": [
    {
     "data": {
      "text/plain": [
       "(2.439659289677394, 16.861649331724323)"
      ]
     },
     "execution_count": 40,
     "metadata": {},
     "output_type": "execute_result"
    }
   ],
   "source": [
    "h[0].evaluate(x)/ g[0].evaluate(x), h[1].evaluate(x)/ g[1].evaluate(x)"
   ]
  },
  {
   "cell_type": "code",
   "execution_count": null,
   "metadata": {},
   "outputs": [],
   "source": []
  },
  {
   "cell_type": "code",
   "execution_count": null,
   "metadata": {},
   "outputs": [],
   "source": []
  },
  {
   "cell_type": "code",
   "execution_count": null,
   "metadata": {},
   "outputs": [],
   "source": []
  },
  {
   "cell_type": "code",
   "execution_count": null,
   "metadata": {},
   "outputs": [],
   "source": []
  }
 ],
 "metadata": {
  "kernelspec": {
   "display_name": "Python 3",
   "language": "python",
   "name": "python3"
  },
  "language_info": {
   "codemirror_mode": {
    "name": "ipython",
    "version": 3
   },
   "file_extension": ".py",
   "mimetype": "text/x-python",
   "name": "python",
   "nbconvert_exporter": "python",
   "pygments_lexer": "ipython3",
   "version": "3.7.3"
  }
 },
 "nbformat": 4,
 "nbformat_minor": 2
}
